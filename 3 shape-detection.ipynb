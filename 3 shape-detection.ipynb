{
 "cells": [
  {
   "cell_type": "markdown",
   "id": "b6bd9e41-84f5-459d-9a1e-f5e1ea2a0bcb",
   "metadata": {},
   "source": [
    "# shape-detection"
   ]
  },
  {
   "cell_type": "code",
   "execution_count": 1,
   "id": "956fe5ee-4c71-42ee-a6f3-947253c90866",
   "metadata": {},
   "outputs": [],
   "source": [
    "import cv2\n",
    "import numpy as np\n",
    "\n",
    "# Load the images\n",
    "image1 = cv2.imread('shape1.jpg')\n",
    "image2 = cv2.imread('shape.jpg')\n",
    "width, height = 500, 500\n",
    "# Ensure all images have the same dimensions\n",
    "# For simplicity, let's resize all images to the size of the first image\n",
    "image1 = cv2.resize(image1, (width, height))\n",
    "image2 = cv2.resize(image2, (width, height))\n",
    "# Concatenate the images horizontally\n",
    "concatenated_image = np.hstack((image1, image2))\n",
    "\n",
    "# Display the concatenated image\n",
    "cv2.imshow('Concatenated Images', concatenated_image)\n",
    "cv2.waitKey(0)\n",
    "cv2.destroyAllWindows()"
   ]
  },
  {
   "cell_type": "code",
   "execution_count": 12,
   "id": "ceb8f0a9-2a30-4910-bdbc-6f024448e72f",
   "metadata": {},
   "outputs": [],
   "source": [
    "import cv2\n",
    "import numpy as np\n",
    "\n",
    "def detect_shapes(image_path):\n",
    "    # Read the image\n",
    "    image = cv2.imread(image_path)\n",
    "    \n",
    "    # Convert to grayscale\n",
    "    gray = cv2.cvtColor(image, cv2.COLOR_BGR2GRAY)\n",
    "    \n",
    "    # Apply GaussianBlur to reduce noise\n",
    "    blurred = cv2.GaussianBlur(gray, (7, 7), 0)\n",
    "    \n",
    "    # Perform edge detection using Canny\n",
    "    edges = cv2.Canny(blurred, 30, 150)\n",
    "    #edges = cv2.threshold(blurred, 220, 255, cv2.THRESH_BINARY_INV)[1]\n",
    "    #cv2.imshow(\"dd\", edges)\n",
    "    #cv2.waitKey(0)\n",
    "    \n",
    "    contours, _ = cv2.findContours(edges.copy(), cv2.RETR_EXTERNAL, cv2.CHAIN_APPROX_SIMPLE)\n",
    "    \n",
    "    # Loop over the contours\n",
    "    for contour in contours:\n",
    "        # Approximate the contour\n",
    "        epsilon = 0.01 * cv2.arcLength(contour, True)\n",
    "        approx = cv2.approxPolyDP(contour, epsilon, True)\n",
    "        \n",
    "        # Determine the shape based on the number of vertices\n",
    "        num_vertices = len(approx)\n",
    "        shape = \"unknown\"\n",
    "        \n",
    "        if num_vertices == 3:\n",
    "            shape = \"triangle\"\n",
    "        elif num_vertices == 4:\n",
    "            # Check if it's a square or rectangle\n",
    "            x, y, w, h = cv2.boundingRect(approx)\n",
    "            aspect_ratio = float(w) / h\n",
    "            shape = \"square\" if 0.99 <= aspect_ratio <= 1.01 else \"rectangle\"\n",
    "        elif num_vertices == 5:\n",
    "            shape = \"pentagon\"\n",
    "        elif cv2.arcLength(contour, True) > 0:\n",
    "            # Calculate the center and radius of the contour to determine if it's a circle\n",
    "            (x, y), radius = cv2.minEnclosingCircle(contour)\n",
    "            area = cv2.contourArea(contour)\n",
    "            circularity = 4 * np.pi * area / (cv2.arcLength(contour, True) ** 2)\n",
    "            shape = \"circle\" if circularity >= 0.85 else \"oval\"\n",
    "        else:\n",
    "            shape = \"unknown\"\n",
    "        \n",
    "        # Draw the contour and the shape name on the image\n",
    "        cv2.drawContours(image, [approx], -1, (0, 255, 0), 3)\n",
    "        cv2.putText(image, shape, (approx.ravel()[0], approx.ravel()[1]), cv2.FONT_HERSHEY_SIMPLEX, 0.5, (0, 0, 0), 2)\n",
    "    \n",
    "    # Display the image with detected shapes\n",
    "    cv2.imshow(\"Shapes Detection\", image)\n",
    "    cv2.waitKey(0)\n",
    "    cv2.destroyAllWindows()\n",
    "\n",
    "# Path to the image file\n",
    "image_path = 'shape1.jpg'\n",
    "#image_path = 'shape.jpg'\n",
    "# Call the function to detect shapes\n",
    "detect_shapes(image_path)\n"
   ]
  },
  {
   "cell_type": "code",
   "execution_count": null,
   "id": "25fb534a-6df4-46e1-b415-9fc6311bf436",
   "metadata": {},
   "outputs": [],
   "source": []
  },
  {
   "cell_type": "code",
   "execution_count": null,
   "id": "492046f1-3caf-4b7b-911f-a86a531e42ce",
   "metadata": {},
   "outputs": [],
   "source": []
  }
 ],
 "metadata": {
  "kernelspec": {
   "display_name": "Python 3 (ipykernel)",
   "language": "python",
   "name": "python3"
  },
  "language_info": {
   "codemirror_mode": {
    "name": "ipython",
    "version": 3
   },
   "file_extension": ".py",
   "mimetype": "text/x-python",
   "name": "python",
   "nbconvert_exporter": "python",
   "pygments_lexer": "ipython3",
   "version": "3.9.19"
  }
 },
 "nbformat": 4,
 "nbformat_minor": 5
}
