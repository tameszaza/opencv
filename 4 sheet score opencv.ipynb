{
 "cells": [
  {
   "cell_type": "code",
   "execution_count": 2,
   "id": "f90e4d06-7a3f-4454-918c-d19483638e07",
   "metadata": {},
   "outputs": [],
   "source": [
    "import cv2\n",
    "import numpy as np\n"
   ]
  },
  {
   "cell_type": "code",
   "execution_count": 4,
   "id": "ec1508b7-6120-486f-abc2-dd2885263974",
   "metadata": {},
   "outputs": [
    {
     "data": {
      "text/plain": [
       "-1"
      ]
     },
     "execution_count": 4,
     "metadata": {},
     "output_type": "execute_result"
    }
   ],
   "source": [
    "# Load the image\n",
    "image = cv2.imread('score.jpg')\n",
    "cv2.imshow(\"Image Score\", image)\n",
    "cv2.waitKey(0)"
   ]
  },
  {
   "cell_type": "code",
   "execution_count": 7,
   "id": "3752f0a9-5965-4909-8f20-77b210275b6c",
   "metadata": {},
   "outputs": [
    {
     "name": "stdout",
     "output_type": "stream",
     "text": [
      "0 0\n",
      "1 5\n",
      "2 10\n",
      "3 15\n",
      "4 20\n",
      "[INFO] score: 80.00%\n"
     ]
    },
    {
     "data": {
      "text/plain": [
       "-1"
      ]
     },
     "execution_count": 7,
     "metadata": {},
     "output_type": "execute_result"
    }
   ],
   "source": [
    "from imutils.perspective import four_point_transform\n",
    "from imutils import contours\n",
    "import numpy as np\n",
    "import cv2\n",
    "\n",
    "ANSWER_KEY = {0: 1, 1: 4, 2: 0, 3: 3, 4: 1}\n",
    "\n",
    "# load the image, convert it to grayscale, blur it slightly, then find edges\n",
    "image = cv2.imread('score.jpg')\n",
    "\n",
    "if image is None:\n",
    "    raise FileNotFoundError(\"The image could not be loaded.\")\n",
    "gray = cv2.cvtColor(image, cv2.COLOR_BGR2GRAY)\n",
    "blurred = cv2.GaussianBlur(gray, (5, 5), 0)\n",
    "_, thresh = cv2.threshold(blurred, 0, 255, cv2.THRESH_BINARY_INV + cv2.THRESH_OTSU)\n",
    "\n",
    "# Debug output: show the thresholded image\n",
    "cv2.imshow(\"Thresholded Image\", thresh)\n",
    "cv2.waitKey(0)\n",
    "# Find contours in the thresholded image\n",
    "cnts, _ = cv2.findContours(thresh.copy(), cv2.RETR_EXTERNAL, cv2.CHAIN_APPROX_SIMPLE)\n",
    "\n",
    "if not cnts:\n",
    "    raise ValueError(\"No contours found in the image. Please check the preprocessing steps.\")\n",
    "questionCnts = []\n",
    "\n",
    "# loop over the contours\n",
    "for c in cnts:\n",
    "    (x, y, w, h) = cv2.boundingRect(c)\n",
    "    ar = w / float(h)\n",
    "\n",
    "    if w >= 20 and h >= 20 and ar >= 0.9 and ar <= 1.1:\n",
    "        questionCnts.append(c)\n",
    "\n",
    "# sort the question contours top-to-bottom, then initialize the total number of correct answers\n",
    "questionCnts = contours.sort_contours(questionCnts, method=\"top-to-bottom\")[0]\n",
    "correct = 0\n",
    "# each question has 5 possible answers, to loop over the question in batches of 5\n",
    "for (q, i) in enumerate(np.arange(0, len(questionCnts), 5)):\n",
    "    print(q,i)\n",
    "    # sort the contours for the current question from left to right, then initialize the index of the bubbled answer\n",
    "    cnts = contours.sort_contours(questionCnts[i:i + 5])[0]\n",
    "    bubbled = None\n",
    "\n",
    "    # loop over the sorted contours\n",
    "    for (j, c) in enumerate(cnts):\n",
    "        mask = np.zeros(thresh.shape, dtype=\"uint8\")\n",
    "        cv2.drawContours(mask, [c], -1, 255, -1)\n",
    "        mask = cv2.bitwise_and(thresh, thresh, mask=mask)\n",
    "        total = cv2.countNonZero(mask)\n",
    "        #print(total)\n",
    "        if bubbled is None or total > bubbled[0]:\n",
    "            bubbled = (total, j)\n",
    "\n",
    "    color = (0, 0, 255) #Red\n",
    "    k = ANSWER_KEY[q]\n",
    "\n",
    "    if k == bubbled[1]:\n",
    "        color = (0, 255, 0) #Green\n",
    "        correct += 1\n",
    "  \n",
    "    cv2.drawContours(image, [cnts[k]], -1, color, 3)\n",
    "\n",
    "# grab the test taker\n",
    "score = (correct / 5.0) * 100\n",
    "print(\"[INFO] score: {:.2f}%\".format(score))\n",
    "cv2.putText(image, \"{:.2f}%\".format(score), (10, 30), cv2.FONT_HERSHEY_SIMPLEX, 0.9, (0, 0, 255), 2)\n",
    "cv2.imshow(\"Original\", image)\n",
    "cv2.waitKey(0)\n"
   ]
  },
  {
   "cell_type": "code",
   "execution_count": null,
   "id": "319d1199-0959-43a4-994f-25cb7b18ab23",
   "metadata": {},
   "outputs": [],
   "source": []
  }
 ],
 "metadata": {
  "kernelspec": {
   "display_name": "Python 3 (ipykernel)",
   "language": "python",
   "name": "python3"
  },
  "language_info": {
   "codemirror_mode": {
    "name": "ipython",
    "version": 3
   },
   "file_extension": ".py",
   "mimetype": "text/x-python",
   "name": "python",
   "nbconvert_exporter": "python",
   "pygments_lexer": "ipython3",
   "version": "3.9.19"
  }
 },
 "nbformat": 4,
 "nbformat_minor": 5
}
