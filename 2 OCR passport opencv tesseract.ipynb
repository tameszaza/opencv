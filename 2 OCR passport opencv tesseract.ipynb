{
 "cells": [
  {
   "cell_type": "markdown",
   "id": "f64cf40e-376e-45ec-aa14-0054685ad98f",
   "metadata": {},
   "source": [
    "# opencv + OCR (Optical character recognition)"
   ]
  },
  {
   "cell_type": "code",
   "execution_count": 4,
   "id": "01cb09db-a16c-4d70-b027-53b1612cbfa4",
   "metadata": {},
   "outputs": [
    {
     "data": {
      "text/plain": [
       "-1"
      ]
     },
     "execution_count": 4,
     "metadata": {},
     "output_type": "execute_result"
    }
   ],
   "source": [
    "import cv2\n",
    "image_path = 'passport1.jpg'\n",
    "image = cv2.imread(image_path)\n",
    "cv2.imshow(\"Image\", image)\n",
    "cv2.waitKey(0)"
   ]
  },
  {
   "cell_type": "code",
   "execution_count": 3,
   "id": "f706cf08-8e30-4601-b438-029707c35806",
   "metadata": {},
   "outputs": [
    {
     "name": "stdout",
     "output_type": "stream",
     "text": [
      "##############################\n",
      "##############################\n",
      "Extracted Thai Name: นาย ปัณณวิชญ์ ตัณฑวิเชียร\n",
      "Extracted Surname: TANTHAWICHIAN\n",
      "Extracted Title/Name: MR. PANNAWISH\n"
     ]
    }
   ],
   "source": [
    "import cv2\n",
    "import pytesseract\n",
    "import numpy as np\n",
    "import re\n",
    "\n",
    "# Path to the Tesseract executable\n",
    "pytesseract.pytesseract.tesseract_cmd = r'C:\\Program Files\\Tesseract-OCR\\tesseract.exe'  # Update this path as per your installation\n",
    "\n",
    "# Load the image\n",
    "image_path = 'passport1.jpg'\n",
    "image = cv2.imread(image_path)\n",
    "\n",
    "# Convert the image to grayscale for better OCR results\n",
    "gray = cv2.cvtColor(image, cv2.COLOR_BGR2GRAY)\n",
    "gray = cv2.threshold(gray, 0, 255, cv2.THRESH_BINARY + cv2.THRESH_OTSU)[1]\n",
    "cv2.imshow(\"Image\", gray)\n",
    "cv2.waitKey(0)\n",
    "# Perform OCR using Tesseract\n",
    "mrzTextT = pytesseract.image_to_string(gray,lang='tha')#, config='--psm 6')\n",
    "mrzTextE = pytesseract.image_to_string(gray,config='--psm 6')\n",
    "# Clean up the text by removing unwanted spaces and newlines\n",
    "#mrzText = mrzText.replace(\" \", \"\")#.replace(\"\\n\", \"\")\n",
    "print('##############################')\n",
    "#print(mrzTextE)\n",
    "print('##############################')\n",
    "pattern = r\"ชื่อภาษาไทย\\s*([\\u0E00-\\u0E7F\\s]+)\\n\"\n",
    "match = re.search(pattern, mrzTextT)\n",
    "if match:\n",
    "    thai_name = match.group(1).strip()\n",
    "    print(f\"Extracted Thai Name: {thai_name}\")\n",
    "else:\n",
    "    print(\"No Thai name found in the input string.\")\n",
    "\n",
    "pattern1 = r\"Surname\\s*/\\s*.*?\\n([A-Z]+)\\s*.*\\nTitle\\s*/\\s*Name\\s*/\\s*.*?\\n([A-Z]+\\.\\s*[A-Z]+)\"\n",
    "# Search for the pattern in the input string\n",
    "match1 = re.search(pattern1, mrzTextE)\n",
    "if match1:\n",
    "    surname = match1.group(1).strip()\n",
    "    title_name = match1.group(2).strip()\n",
    "    print(f\"Extracted Surname: {surname}\")\n",
    "    print(f\"Extracted Title/Name: {title_name}\")\n",
    "else:\n",
    "    print(\"No match found.\")\n"
   ]
  },
  {
   "cell_type": "markdown",
   "id": "74b6015f-1479-4c77-9f76-ed4e37ef1439",
   "metadata": {},
   "source": [
    "# Scan Total in receipt"
   ]
  },
  {
   "cell_type": "code",
   "execution_count": 5,
   "id": "e46d07b7-a68e-4b49-a0a6-72ba42ed8d6f",
   "metadata": {},
   "outputs": [],
   "source": [
    "import cv2\n",
    "import numpy as np\n",
    "\n",
    "# Load the images\n",
    "image1 = cv2.imread('rec1.png')\n",
    "image2 = cv2.imread('rec2.png')\n",
    "image3 = cv2.imread('rec3.jpg')\n",
    "width, height = 400, 400\n",
    "# Ensure all images have the same dimensions\n",
    "# For simplicity, let's resize all images to the size of the first image\n",
    "image1 = cv2.resize(image1, (width, height))\n",
    "image2 = cv2.resize(image2, (width, height))\n",
    "image3 = cv2.resize(image3, (width, height))\n",
    "\n",
    "# Concatenate the images horizontally\n",
    "concatenated_image = np.hstack((image1, image2, image3))\n",
    "\n",
    "# Display the concatenated image\n",
    "cv2.imshow('Concatenated Images', concatenated_image)\n",
    "cv2.waitKey(0)\n",
    "cv2.destroyAllWindows()\n"
   ]
  },
  {
   "cell_type": "code",
   "execution_count": 6,
   "id": "10fb9394-a178-412d-9e6b-5433dcaead32",
   "metadata": {},
   "outputs": [
    {
     "name": "stdout",
     "output_type": "stream",
     "text": [
      "Total value from rec1.png: 204.75\n",
      "Total value from rec2.png: 145.0\n",
      "Total value from rec3.jpg: 52.79\n",
      "Total values extracted from all images: [204.75, 145.0, 52.79] = 402.54\n"
     ]
    }
   ],
   "source": [
    "import cv2\n",
    "import pytesseract\n",
    "import os\n",
    "import re\n",
    "\n",
    "def extract_total_value_p(text):\n",
    "    # Define the regular expression pattern to match the total value\n",
    "    pattern = r'TOTAL\\s*\\$\\s*([0-9]*\\.?[0-9]+)\\n'\n",
    "\n",
    "    # Search for the pattern in the text\n",
    "    match = re.search(pattern, text)\n",
    "\n",
    "    if match:\n",
    "        # Extract the matched group (the total value)\n",
    "        total_value = float(match.group(1))\n",
    "        return total_value\n",
    "    else:\n",
    "        return None\n",
    "        \n",
    "# List of image filenames\n",
    "image_filenames = ['rec1.png', 'rec2.png', 'rec3.jpg']\n",
    "\n",
    "# Ensure pytesseract is configured correctly\n",
    "pytesseract.pytesseract.tesseract_cmd = r'C:\\Program Files\\Tesseract-OCR\\tesseract.exe' # Update this path if needed\n",
    "\n",
    "# Function to extract total values from images\n",
    "def extract_total_value(image_path):\n",
    "    # Load the image\n",
    "    image = cv2.imread(image_path)\n",
    "    \n",
    "    # Convert the image to grayscale\n",
    "    gray = cv2.cvtColor(image, cv2.COLOR_BGR2GRAY)\n",
    "    gray = cv2.threshold(gray, 0, 255, cv2.THRESH_BINARY + cv2.THRESH_OTSU)[1]\n",
    "    \n",
    "    # Use pytesseract to extract text\n",
    "    text = pytesseract.image_to_string(gray,config='--psm 6')\n",
    "    # For demonstration, let's assume the total value is the last number in the text\n",
    "    total_value = None\n",
    "    total_value= extract_total_value_p(text)\n",
    "    return total_value\n",
    "\n",
    "# Loop through each image, extract text and get total values\n",
    "total_values = []\n",
    "sum_total_values = 0\n",
    "for filename in image_filenames:\n",
    "    total_value = extract_total_value(filename)\n",
    "    if total_value is not None:\n",
    "        total_values.append(total_value)\n",
    "        sum_total_values += total_value\n",
    "        print(f\"Total value from {filename}: {total_value}\")\n",
    "    else:\n",
    "        print(f\"Could not extract total value from {filename}\")\n",
    "\n",
    "# Print all total values\n",
    "print(f\"Total values extracted from all images: {total_values} = {sum_total_values}\")\n"
   ]
  },
  {
   "cell_type": "code",
   "execution_count": null,
   "id": "5e5a61b9-6828-43ea-a111-8a15be194f45",
   "metadata": {},
   "outputs": [],
   "source": []
  }
 ],
 "metadata": {
  "kernelspec": {
   "display_name": "Python 3 (ipykernel)",
   "language": "python",
   "name": "python3"
  },
  "language_info": {
   "codemirror_mode": {
    "name": "ipython",
    "version": 3
   },
   "file_extension": ".py",
   "mimetype": "text/x-python",
   "name": "python",
   "nbconvert_exporter": "python",
   "pygments_lexer": "ipython3",
   "version": "3.9.19"
  }
 },
 "nbformat": 4,
 "nbformat_minor": 5
}
